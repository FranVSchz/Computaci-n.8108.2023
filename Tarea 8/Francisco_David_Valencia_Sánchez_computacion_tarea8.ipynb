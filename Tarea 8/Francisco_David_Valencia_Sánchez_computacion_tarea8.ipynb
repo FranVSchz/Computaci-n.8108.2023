{
  "cells": [
    {
      "cell_type": "markdown",
      "metadata": {
        "id": "LdYMJTfNoHBY"
      },
      "source": [
        "# Tarea 8: Más listas y ciclos for\n",
        "### Computación - 8108\n",
        "#### Facultad de Ciencias - UNAM\n",
        "#### Profesores: C. Fís. Omar Trejo, C. Fís. Iván Jiménez, Pedro Flores-Silva\n",
        "\n",
        "Instrucciones: Este notebook contiene una serie de ejercicios que deben ser resueltos. Cada ejercicio se encuentra en una celda, ya sea de código o Markdown. Debes crear una o dos *celdas debajo de cada ejercicio* con tu(s) respectiva(s) respuestas. No modifiques las celdas originales.\n",
        "Recuerda que para ejecutar el código de una celda, presionar `Ctlr + Enter` o bien el boton de `play` en el editor Jupyter notebook.\n",
        "\n",
        "Cada ejercicio tendrá diferente valor, y se indicará en la celda de éste. La calificación final será la suma de los puntos obtenidos en cada ejercicio. Se calificará considerando la calidad de la respuesta, la claridad de la explicación y la correctitud del código. Por ejemplo, si el código no ejecuta la respuesta correcta pero se da una idea textual, se demuestra que hay comprensión del problema y el código hace sentido para el revisor, se otorgará una calificación parcial. Esto es, las respuestas no solo se evaluarán como bien o mal, sino que se considerará el esfuerzo. \n",
        "\n",
        "El codigo que realices debes comentarlo donde creas necesario, no vale no hacer ningún comentario. Recuerda que los comentarios son importantes para que el código sea legible y entendible, éstos se agregan con el símbolo # ."
      ]
    },
    {
      "cell_type": "markdown",
      "metadata": {
        "id": "F18YY3uHoHBg"
      },
      "source": [
        "### Ejercicio 1 (1 punto):\n",
        "Considera la siguiente lista de números: `lista = [1, 2, 2, 2, 465, 465, 787, 788, 99, \"mundo\", \"hola mundo\", \"adios mundo\", \"hola mundo\"]`. A partir de la lista crea otra lista que contenga los elementos únicos e imprimela.\n",
        "\n",
        "No vale crear la lista manualmente, debes hacerlo con código.\n",
        "\n",
        "El resultado debe ser: `[1, 2, 99, 'mundo', 'hola mundo', 465, 787, 788, 'adios mundo']`"
      ]
    },
    {
      "cell_type": "code",
      "source": [
        "lista = [1, 2, 2, 2, 465, 465, 787, 788, 99, \"mundo\", \"hola mundo\", \"adios mundo\", \"hola mundo\"]\n",
        "ayuda_no_he_dormido = list (set (lista))\n",
        "print(ayuda_no_he_dormido)"
      ],
      "metadata": {
        "colab": {
          "base_uri": "https://localhost:8080/"
        },
        "id": "K-O3hnpU8oCf",
        "outputId": "4f047cd6-76c3-4936-b794-5718e25abfc2"
      },
      "execution_count": 7,
      "outputs": [
        {
          "output_type": "stream",
          "name": "stdout",
          "text": [
            "['hola mundo', 1, 2, 99, 'adios mundo', 465, 787, 788, 'mundo']\n"
          ]
        }
      ]
    },
    {
      "cell_type": "markdown",
      "metadata": {
        "id": "5QqZw7P9oHBh"
      },
      "source": [
        "### Ejercicio 2 (4 puntos): Aproximación de $\\pi$\n",
        "Una de las formas más sencillas de calcular $\\pi$ es mediante la siguiente serie infinita de Leibniz:\n",
        "$$\\frac{\\pi}{4} = \\sum_{n=0}^{\\infty}\\frac{(-1)^{n}}{(2n+1)} = \\frac{1}{1} - \\frac{1}{3} + \\frac{1}{5}-\\frac{1}{7}+\\frac{1}{9}-...$$\n",
        "\n",
        "crea un programa para aproximar $\\pi$ utilizando la serie de Leibniz. Usa n = 100000, imprime el valor de tu aproximación tanto el valor de $\\frac{\\pi}{4}$ como $\\pi$.\n",
        "\n",
        "El valor de $\\pi$ se obtiene al despejar:\n",
        "$$\\pi = 4 * \\left(\\sum_{n=0}^{\\infty}\\frac{(-1)^{n}}{(2n+1)} \\right)$$\n",
        "\n",
        "La siguiente celda de codigo ofrece el valor de $\\frac{\\pi}{4}$"
      ]
    },
    {
      "cell_type": "code",
      "execution_count": null,
      "metadata": {
        "id": "Ic6dpu4uoHBj",
        "outputId": "fdd5fcae-1985-403e-ecc7-b6d0f62f2fa2"
      },
      "outputs": [
        {
          "name": "stdout",
          "output_type": "stream",
          "text": [
            "El valor de pi/4 es aproximadamente 0.7853981633974483\n"
          ]
        }
      ],
      "source": [
        "import numpy as np\n",
        "#El valor de pi/4\n",
        "print(\"El valor de pi/4 es aproximadamente {}\".format(np.pi/4))"
      ]
    },
    {
      "cell_type": "markdown",
      "metadata": {
        "id": "jGWvRrYVoHBl"
      },
      "source": [
        "### Ejercicio 3 (4 puntos): Sucesión monótona \n",
        "Una sucesión {$a_n$} es una colección de números relacionados entre sí, en la que se tiene en cuenta la posición relativa de cada número respecto al anterior. Por ejemplo, la sucesión $\\frac{1}{n} = 1, 1/2, 1/3, 1/4, ...$ es convergente a cero ya que cuando $n \\rightarrow \\infty$ el valor de $a_n$ se acerca a cero.\n",
        "\n",
        "Una sucesión podemos verla como una lista, tal que así `[1, 1/2, 1/3,1/10000]` (claramente con un valor maximo, pues en python no podemos tener infinitos elementos en una lista).\n",
        "\n",
        "Considera la sucesión $a_n = 3 - \\frac{1}{n}$, crea un programa que haga una lista con los primeros 10 mil terminos de dicha sucesion (no la imprimas).\n",
        "\n",
        "Imprime los últimos 15 elementos de la lista y discute en una celda Markdown si esta sucesión es convergente y hacía que valor converge. Investiga que condición debe cumplir para que una suceción sea monótona creciente y monótona decreciente, con ello responde si es creciente o decreciente.\t"
      ]
    },
    {
      "cell_type": "markdown",
      "metadata": {
        "id": "B3byU_RRoHBm"
      },
      "source": [
        "### Ejercicio 4 (1 punto):\n",
        "Crea un ciclo for a modo de que la salida sea la siguiente:\n",
        "\n",
        "10\n",
        "\n",
        "9\n",
        "\n",
        "8\n",
        "\n",
        "7\n",
        "\n",
        "6\n",
        "\n",
        "...\n",
        "\n",
        "2\n",
        "\n",
        "1\n",
        "\n",
        "0\n"
      ]
    },
    {
      "cell_type": "code",
      "source": [
        "for i in range(11):\n",
        "  ayuda_porfis_tengan_piedad_tengo_tres_reposiciones_lunes_martes_miercoles= 10- i\n",
        "  print(ayuda_porfis_tengan_piedad_tengo_tres_reposiciones_lunes_martes_miercoles)\n"
      ],
      "metadata": {
        "colab": {
          "base_uri": "https://localhost:8080/"
        },
        "id": "VeXSzRpA9GfI",
        "outputId": "16f0730e-d783-4550-a979-0a2e71180561"
      },
      "execution_count": 8,
      "outputs": [
        {
          "output_type": "stream",
          "name": "stdout",
          "text": [
            "10\n",
            "9\n",
            "8\n",
            "7\n",
            "6\n",
            "5\n",
            "4\n",
            "3\n",
            "2\n",
            "1\n",
            "0\n"
          ]
        }
      ]
    },
    {
      "cell_type": "markdown",
      "metadata": {
        "id": "O_kTAtD4oHBo"
      },
      "source": [
        "### Puntos extras, este ejercicio es opcional (2 puntos):\n",
        "Crea un codigo para calcular el producto punto de dos vectores $\\vec{\\omega}$ y $\\vec{\\eta}$ de dimensión $3$. No vale usar librerias externas, debes hacerlo con ciclos for.\n",
        "\n",
        "Donde $\\vec{\\omega} = (10, 2, -3)$ y $\\vec{\\eta} = (5, -5, 1)$\n",
        "\n",
        "El producto punto de los vectores $\\vec{\\omega}$ y $\\vec{\\eta}$ se define como:\n",
        "$$<\\vec{\\omega},\\vec{\\eta}> = \\vec{\\omega} \\cdot \\vec{\\eta} = \\omega_{1}\\eta_{1} + \\omega_{2}\\eta_{2} + \\omega_{3}\\eta_{3} = 10*5 + 2*(-5) + (-3)*1=37$$"
      ]
    },
    {
      "cell_type": "code",
      "source": [
        "#Definimos la \"lista\"\n",
        "w=[10, 2, -3]\n",
        "n=[5, -5, 1]\n",
        "wn=0#pongo el 0 porque luego se me va que phyton comienza desde el 0 a contar entonces le ponia 1 y no lo jalaba :(\n",
        "for w,n in zip(w,n):\n",
        "  wn = wn + (w*n)\n",
        "print(wn)"
      ],
      "metadata": {
        "colab": {
          "base_uri": "https://localhost:8080/"
        },
        "id": "thF63l3U_x5Q",
        "outputId": "bcb189e6-f262-4727-89ad-20410a590b4e"
      },
      "execution_count": 14,
      "outputs": [
        {
          "output_type": "stream",
          "name": "stdout",
          "text": [
            "37\n"
          ]
        }
      ]
    }
  ],
  "metadata": {
    "kernelspec": {
      "display_name": "Python 3.9.13 ('base')",
      "language": "python",
      "name": "python3"
    },
    "language_info": {
      "codemirror_mode": {
        "name": "ipython",
        "version": 3
      },
      "file_extension": ".py",
      "mimetype": "text/x-python",
      "name": "python",
      "nbconvert_exporter": "python",
      "pygments_lexer": "ipython3",
      "version": "3.9.13"
    },
    "orig_nbformat": 4,
    "vscode": {
      "interpreter": {
        "hash": "ad2bdc8ecc057115af97d19610ffacc2b4e99fae6737bb82f5d7fb13d2f2c186"
      }
    },
    "colab": {
      "provenance": []
    }
  },
  "nbformat": 4,
  "nbformat_minor": 0
}