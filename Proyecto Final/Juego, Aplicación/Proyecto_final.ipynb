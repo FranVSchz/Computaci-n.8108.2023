{
  "nbformat": 4,
  "nbformat_minor": 0,
  "metadata": {
    "colab": {
      "provenance": []
    },
    "kernelspec": {
      "name": "python3",
      "display_name": "Python 3"
    },
    "language_info": {
      "name": "python"
    }
  },
  "cells": [
    {
      "cell_type": "code",
      "source": [
        "import random\n",
        "\n",
        "# El usuario adivina el número aleatorio generado por la computadora.\n",
        "def adivina_el_número(x):\n",
        "\n",
        "    print(\"============================\")\n",
        "    print(\"  Holiiii vamos a jugar  \")\n",
        "    print(\"============================\")\n",
        "    print(\"El objetivo es adivinar un número entre el 1 y el 20\")\n",
        "\n",
        "    número_aleatorio = random.randint(1, x) # número aleatorio entre 1 y x.\n",
        "\n",
        "    # La predicción es 0 inicialmente para que no coincida con el número aleatorio. \n",
        "    predicción = 0\n",
        "\n",
        "    # Continuar prediciendo el número hasta que la predicción sea correcta.\n",
        "    while predicción != número_aleatorio:\n",
        "        # El usuario ingresa un número.\n",
        "        predicción = int(input(f'Adivina un número entre 1 y {x}: '))\n",
        "        # Si el número es menor que el número aleatorio, se \n",
        "        # muestra un mensaje.\n",
        "        if predicción < número_aleatorio:\n",
        "            print('Estas muy frio chavo')\n",
        "        # Si el número es mayor que el número aleatorio, se\n",
        "        # muestra un mensaje.\n",
        "        elif predicción > número_aleatorio:\n",
        "            print('Estas muy caliente')\n",
        "\n",
        "    # El ciclo o bucle se detiene cuando el usuario adivina el número\n",
        "    # correctamente y se muestra un mensaje final.\n",
        "    print(f'¡Felicitaciones! Adivinaste el número {número_aleatorio}, te ganaste un chocolate')\n",
        "\n",
        "# Llamar a la función\n",
        "adivina_el_número(20)"
      ],
      "metadata": {
        "colab": {
          "base_uri": "https://localhost:8080/"
        },
        "id": "Wm5PiJN7Gg5p",
        "outputId": "63d23382-ed6a-43c3-a995-63acfa27a3c2"
      },
      "execution_count": null,
      "outputs": [
        {
          "output_type": "stream",
          "name": "stdout",
          "text": [
            "============================\n",
            "  Holiiii vamos a jugar  \n",
            "============================\n",
            "El objetivo es adivinar un número entre el 1 y el 20\n",
            "Adivina un número entre 1 y 20: 4\n",
            "¡Felicitaciones! Adivinaste el número 4, te ganaste un chocolate\n"
          ]
        }
      ]
    },
    {
      "cell_type": "code",
      "source": [
        "adivina_el_número(20)"
      ],
      "metadata": {
        "colab": {
          "base_uri": "https://localhost:8080/"
        },
        "id": "8snjNjgIlTei",
        "outputId": "1d551377-9cb0-47fc-dbfb-dbed1489dacf"
      },
      "execution_count": 8,
      "outputs": [
        {
          "output_type": "stream",
          "name": "stdout",
          "text": [
            "============================\n",
            "  Holiiii vamos a jugar  \n",
            "============================\n",
            "El objetivo es adivinar un número entre el 1 y el 20\n",
            "Adivina un número entre 1 y 20: 2\n",
            "Estas muy frio chavo\n",
            "Adivina un número entre 1 y 20: 1\n",
            "Estas muy frio chavo\n",
            "Adivina un número entre 1 y 20: 5\n",
            "Estas muy frio chavo\n",
            "Adivina un número entre 1 y 20: 7\n",
            "Estas muy frio chavo\n",
            "Adivina un número entre 1 y 20: 20\n",
            "Estas muy caliente\n",
            "Adivina un número entre 1 y 20: 17\n",
            "Estas muy frio chavo\n",
            "Adivina un número entre 1 y 20: 18\n",
            "Estas muy frio chavo\n",
            "Adivina un número entre 1 y 20: 19\n",
            "¡Felicitaciones! Adivinaste el número 19, te ganaste un chocolate\n"
          ]
        }
      ]
    },
    {
      "cell_type": "code",
      "source": [
        "adivina_el_número(20)"
      ],
      "metadata": {
        "colab": {
          "base_uri": "https://localhost:8080/"
        },
        "id": "JeIbQv5xlePC",
        "outputId": "9eab248d-53ba-4889-b35f-9a3baa4ae30e"
      },
      "execution_count": 9,
      "outputs": [
        {
          "output_type": "stream",
          "name": "stdout",
          "text": [
            "============================\n",
            "  Holiiii vamos a jugar  \n",
            "============================\n",
            "El objetivo es adivinar un número entre el 1 y el 20\n",
            "Adivina un número entre 1 y 20: 12\n",
            "Estas muy frio chavo\n",
            "Adivina un número entre 1 y 20: 18\n",
            "Estas muy caliente\n",
            "Adivina un número entre 1 y 20: 15\n",
            "Estas muy caliente\n",
            "Adivina un número entre 1 y 20: 14\n",
            "¡Felicitaciones! Adivinaste el número 14, te ganaste un chocolate\n"
          ]
        }
      ]
    }
  ]
}