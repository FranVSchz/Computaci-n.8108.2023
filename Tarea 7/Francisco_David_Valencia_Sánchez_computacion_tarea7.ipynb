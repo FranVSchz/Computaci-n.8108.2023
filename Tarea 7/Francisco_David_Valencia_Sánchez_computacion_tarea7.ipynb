{
  "cells": [
    {
      "cell_type": "markdown",
      "metadata": {
        "id": "_7Ra8570ohY1"
      },
      "source": [
        "# Tarea 7: Revisión de los conceptos básicos de Python\n",
        "### Computación - 8108\n",
        "#### Facultad de Ciencias - UNAM\n",
        "#### Profesores: C. Fís. Omar Trejo, C. Fís. Iván Jiménez, Pedro Flores-Silva\n",
        "\n",
        "Instrucciones: Este notebook contiene una serie de ejercicios que deben ser resueltos. Cada ejercicio se encuentra en una celda, ya sea de código o Markdown. Debes crear una o dos *celdas debajo de cada ejercicio* con tu(s) respectiva(s) respuestas. No modifiques las celdas originales.\n",
        "Recuerda que para ejecutar el código de una celda, presionar `Ctlr + Enter` o bien el boton de `play` en el editor Jupyter notebook.\n",
        "\n",
        "Cada ejercicio tendrá diferente valor, y se indicará en la celda de éste. La calificación final será la suma de los puntos obtenidos en cada ejercicio. Se calificará considerando la calidad de la respuesta, la claridad de la explicación y la correctitud del código. Por ejemplo, si el código no ejecuta la respuesta correcta pero se da una idea textual, se demuestra que hay comprensión del problema y el código hace sentido para el revisor, se otorgará una calificación parcial. Esto es, las respuestas no solo se evaluarán como bien o mal, sino que se considerará el esfuerzo. \n",
        "\n",
        "El codigo que realices debes comentarlo donde creas necesario, no vale no hacer ningún comentario. Recuerda que los comentarios son importantes para que el código sea legible y entendible, éstos se agregan con el símbolo # ."
      ]
    },
    {
      "cell_type": "markdown",
      "metadata": {
        "id": "TgfUcxBBohY7"
      },
      "source": [
        "### Ejercicio 1 (1 punto):\n",
        "En una celda Markdown contesta: ¿Qué es un nombre reservado en python? Enlista 5 ejemplos de nombres reservados en python y describe su función (aquí debes investigar su función si es que aún no hemos tratado dicho nombre reservado)."
      ]
    },
    {
      "cell_type": "markdown",
      "metadata": {
        "id": "LiO0iKtiphhc"
      },
      "source": [
        "Phyton, como bien sabemos esta escrito en ingles, por lo que para que sea mas paractico de aprender que hace cada codigo se les asigno palabras reservadas sobre lo que puede hacer, o instrucciones, podemos diferenciar las palabras reservadas porque al menos en Anaconda se ponen las palabras en verde, algúnos ejemplos son:\n",
        "1.   **list**    como su nombre lo indica es para crear una lista\n",
        "2.   **if**   El uso del if y los condicionales en general son la base de cualquier lenguaje de programación. Son usados para alterar la línea de ejecución del programa en función de determinadas condiciones.\n",
        "3.   **print()**   Imprime lo que quieras, claro que sea posible, valores, palabras o listas.\n",
        "4.   **for**    nos ayuda a hacer iteraciones a los valores que quieras \n",
        "5.   **def** se usa para definir una función definida por el usuario.\n",
        "6.   **is**    ya que es un operador de identidad, el operador is comprueba si dos variables hacen referencia a el mismo objeto."
      ]
    },
    {
      "cell_type": "markdown",
      "metadata": {
        "id": "XEdINYWpohY8"
      },
      "source": [
        "### Ejercicio 2 (1 punto):\n",
        "En una celda Markdown: Coloca tres ejemplos de nombres de variables que no son válidos en python. Explica por qué no son válidos."
      ]
    },
    {
      "cell_type": "markdown",
      "metadata": {
        "id": "ATsfJAvIXJ7V"
      },
      "source": [
        "**EJEMPLOS**\n",
        "\n",
        "**Ejemplo_1** hacer un número variable con otro numero, 5=10 no lo podemos volver una variable\n",
        "\n",
        "**Ejemplo_2** evidentemente no podemos asignar palabras reservadas como variables, in= 5\n",
        "\n",
        "**Ejemplo_3** no puedes poner espacios o \"-\" al nombrar una variable., var iable = 10 o var-iable = 10\n"
      ]
    },
    {
      "cell_type": "markdown",
      "metadata": {
        "id": "PVYskwjOohY-"
      },
      "source": [
        "### Ejercicio 3 (3 puntos):\n",
        "Considera el siguiente polinomio: $f(x) = 10x^2 - 2x$. \n",
        "\n",
        "En una celda Markdown escribe:\n",
        "* Los pasos para encontrar sus raíces a través del método del despeje.\n",
        "* Los pasos para encontrar sus raíces a través del método de la chicharronera.\n",
        "\n",
        "En una celda de código, escribe un programa que compruebe que las raíces del polinomio $f(x) = 10x^2 - 2x$ que tu encontraste son correctas. El programa debe imprimir las raíces en la pantalla. (Debes usar la ecuación que obtuviste al depejar el polinomio).\n",
        "\n",
        "En otra celda de código, escribe un programa que encuentre las raíces del polinomio $f(x) = 10x^2 - 2x$ a través del método de la chicharronera. El programa debe imprimir las raíces en la pantalla. (Debes usar la chicharronera).\n",
        "\n",
        "Considera los signos de la chicharronera como dos operaciones diferentes: $(-)$ y $(+)$."
      ]
    },
    {
      "cell_type": "markdown",
      "source": [
        "\n",
        "Pasos por despeje segun la pagina de https://redi.cuaieed.unam.mx/lecciones/lecciones/alg/1_076/index.html#:~:text=Para%20resolver%20ecuaciones%20cuadr%C3%A1ticas%20de%20la%20forma%20a,en%20sustituir%20los%20valores%20de%20a%20a%2C%20\n",
        "\n",
        "Factorización. Primero hay que expresar la ecuación como el producto de dos binomios. Después se resuelve la ecuación igualando a cero cada factor, y despejando $x$ en cada uno de ellos.\n",
        "1.   $10x^2 - 2x = 0$\n",
        "2.   $(10x^2 - 2x)/2 = 0/2$\n",
        "3.   $5x^2 -x = 0$\n",
        "4.   $x(5x -1) = 0$\n",
        "5.   $x1=0$\n",
        "6.   $5x-1=0$\n",
        "7.   $x2=1/5=0.2$\n",
        "\n"
      ],
      "metadata": {
        "id": "Ire5E2Q3yQWu"
      }
    },
    {
      "cell_type": "code",
      "source": [
        "#Como es una igualdad y como las instrucciones nos pide comprobar si son las raices correctas al evaluar nos debe quedar en 0 porque es igualdad no hay que olvidarlo  \n",
        "x_1=0\n",
        "X1= 10*x_1 - 2*x_1\n",
        "X1 \n",
        "#Nos igualdad a cero al poner x_1\n",
        "x_2=0\n",
        "X2= 10*x_2 - 2*x_2\n",
        "X2\n",
        "#Nos igualdad a cero al poner x_2\n",
        "print(X1, X2)"
      ],
      "metadata": {
        "colab": {
          "base_uri": "https://localhost:8080/"
        },
        "id": "NXZxZ08LyPHF",
        "outputId": "3b0b4183-3047-4597-f9d6-371588b04cf4"
      },
      "execution_count": 82,
      "outputs": [
        {
          "output_type": "stream",
          "name": "stdout",
          "text": [
            "0 0\n"
          ]
        }
      ]
    },
    {
      "cell_type": "markdown",
      "metadata": {
        "id": "6YWVLH6xb9F9"
      },
      "source": [
        "1. En la chicharronera tenemos la forma $ax + bx + c= 0$, pues los valores son $a=10$, $b= -2$, $c=0$, en este caso ponemos el $c=0$,  porque no hay un valor.\n",
        "2. Sustituimos en la chicharronera $    $${ x = \\frac{-b \\pm \\sqrt{b^2 - 4ac}}{2a}}$\n",
        "3. Nos queda $    $${ x = \\frac{2 \\pm \\sqrt{-2^2 - 4*10}}{2*10}}$\n",
        "4. Nos da las $x1$  y $x2$\n",
        "5. Que son  $x1=1/5=0.2$  y $x2=0$\n"
      ]
    },
    {
      "cell_type": "code",
      "execution_count": 74,
      "metadata": {
        "colab": {
          "base_uri": "https://localhost:8080/"
        },
        "id": "vWVbD7h6b9X1",
        "outputId": "501748a2-5172-4dd9-ec24-37bdd313cd0f"
      },
      "outputs": [
        {
          "output_type": "stream",
          "name": "stdout",
          "text": [
            "0.2 0.0\n"
          ]
        }
      ],
      "source": [
        "#Por chicharronera como la ax^2+bx+c=0 asignamos los valores \n",
        "a=10\n",
        "b=-2\n",
        "c=0\n",
        "#porque no tiene un valor se le asigna el cero jaja neta estoy explicando esto, diria spivak es claro y evidente \n",
        "#x1 = (-1*b) + (sqrt ( (b**2) - (4 * a *c ) ) ) / (2 *a)\n",
        "#x2 = (-1*b) - (sqrt ( (b**2) - (4 * a *c ) ) ) / (2 *a)\n",
        "x1= ((-1*b) + ( ((b**2) - (4*a*c)) **1/2 ) )/ (2*a)\n",
        "x2= ((-1*b) - ( ((b**2) - (4*a*c)) **1/2 ) )/ (2*a)\n",
        "print(x1, x2)"
      ]
    },
    {
      "cell_type": "markdown",
      "metadata": {
        "id": "MAaTz7QoohY_"
      },
      "source": [
        "### Ejercicio 4 (3 puntos):\n",
        "Caida libre: El gran Galileo Galilei subió la torre de Pisa para determinar el tiempo que tarda un objeto en caer desde una altura $H$ al suelo. Para ello, colocó un objeto de masa $m=100$ kg en la torre y lo dejó caer. El tiempo que tardó en caer fue $t=0.05616667$ minutos.\n",
        "\n",
        "Considerando que la aceleración de la gravedad es $g=9.8$ $\\frac{m}{s^2}$, escribe un programa que determine la altura de la torre de Pisa. El programa debe imprimir la altura en la pantalla.\n",
        "\n",
        "Recuerda que el movimiento de caída libre simplificado cumple la ecuación: $y(t) = H + vt - \\frac{1}{2}gt^2$.\n"
      ]
    },
    {
      "cell_type": "code",
      "execution_count": null,
      "metadata": {
        "colab": {
          "base_uri": "https://localhost:8080/"
        },
        "id": "PIvyFV075Gmv",
        "outputId": "81aa28ce-42a7-411d-a587-43a86984b225"
      },
      "outputs": [
        {
          "data": {
            "text/plain": [
              "55.64881660520021"
            ]
          },
          "execution_count": 34,
          "metadata": {},
          "output_type": "execute_result"
        }
      ],
      "source": [
        "#Asignamos los valores a las letras, le cambie el signo de mas por mi sistema de referencia \n",
        "g=9.8\n",
        "t=0.05616667*60 #aqui lo multiplique por 60 para que me diera el valor en segundos \n",
        "H= +1/2 *g *t**2\n",
        "H\n"
      ]
    },
    {
      "cell_type": "markdown",
      "metadata": {
        "id": "xeXO8_IlohZA"
      },
      "source": [
        "### Ejercicio 5 (2 puntos):\n",
        "Considera una lista de números enteros del 0 al 99 : `lista = [0,1, 2, 3, 4, ... , 95, 96, 97, 98, 99]`.\n",
        "En una celda de código, escribe un programa que imprima en la pantalla una la lista que cumpla con las siguientes condiciones:\n",
        "* Los ultimos 10 elementos: debe imprimir lo siguiente `[90, 91, 92, 93, 94, 95, 96, 97, 98, 99]`.\n",
        "* Los primeros 11 elementos: debe imprimir lo siguiente `[0, 1, 2, 3, 4, 5, 6, 7, 8, 9, 10]`.\n",
        "* La serie de elementos de la lista que están entre 60 y 75: debe imprimir lo siguiente `[60, 61, 62, 63, 64, 65, 66, 67, 68, 69, 70, 71, 72, 73, 74, 75]`.\n",
        "* El número 50: debe imprimir lo siguiente `50`.\n",
        "\n",
        "Debes aplicar el concepto de *slicing* para resolver este ejercicio (notación de puntos `[:]`).\n",
        "\n",
        "Puntos menos si se crean listas nuevas para cada caso y/o se seleccionan manualmente los valores.\n",
        "\n",
        "El código de abajo te ayudará a crear la lista del 0 al 99."
      ]
    },
    {
      "cell_type": "code",
      "execution_count": null,
      "metadata": {
        "colab": {
          "base_uri": "https://localhost:8080/"
        },
        "id": "QPcDR441ohZC",
        "outputId": "0679884b-777a-4e0d-f422-c635d0710b5d"
      },
      "outputs": [
        {
          "name": "stdout",
          "output_type": "stream",
          "text": [
            "[90, 91, 92, 93, 94, 95, 96, 97, 98, 99]\n"
          ]
        }
      ],
      "source": [
        "#Lista Número 1\n",
        "lista = list(range(100))\n",
        "print(lista[90:])"
      ]
    },
    {
      "cell_type": "code",
      "execution_count": null,
      "metadata": {
        "colab": {
          "base_uri": "https://localhost:8080/"
        },
        "id": "jawo4dhpV0U_",
        "outputId": "6ae07c55-6504-464d-8233-5d8e39a1ba07"
      },
      "outputs": [
        {
          "name": "stdout",
          "output_type": "stream",
          "text": [
            "[0, 1, 2, 3, 4, 5, 6, 7, 8, 9, 10]\n"
          ]
        }
      ],
      "source": [
        "#Lista Número 2\n",
        "lista = list(range(100))\n",
        "print(lista[:11])"
      ]
    },
    {
      "cell_type": "code",
      "execution_count": null,
      "metadata": {
        "colab": {
          "base_uri": "https://localhost:8080/"
        },
        "id": "e_jnWxEAV_SZ",
        "outputId": "19a4e34b-151a-4d37-d5c1-b9aeef6fb442"
      },
      "outputs": [
        {
          "name": "stdout",
          "output_type": "stream",
          "text": [
            "[60, 61, 62, 63, 64, 65, 66, 67, 68, 69, 70, 71, 72, 73, 74, 75]\n"
          ]
        }
      ],
      "source": [
        "#Lista Número 3\n",
        "lista = list(range(100))\n",
        "print(lista[60:76])"
      ]
    },
    {
      "cell_type": "code",
      "execution_count": null,
      "metadata": {
        "colab": {
          "base_uri": "https://localhost:8080/"
        },
        "id": "cz9OEJ_nWP3R",
        "outputId": "145ebae3-288c-4b1c-f5fa-355a75bb50c1"
      },
      "outputs": [
        {
          "name": "stdout",
          "output_type": "stream",
          "text": [
            "[50]\n"
          ]
        }
      ],
      "source": [
        "#Lista Número 4\n",
        "lista = list(range(100))\n",
        "print(lista[50:51])"
      ]
    },
    {
      "cell_type": "markdown",
      "metadata": {
        "id": "2zNfMar1ohZD"
      },
      "source": [
        "### Puntos extras, este ejercicio es opcional (5 puntos):\n",
        "Replica el código visto en clase para simular los volados. Discute los resultados obtenidos. ¿Qué observas? ¿Qué puedes concluir? ¿Qué pasa cuando la cantidad de volados es muy pequeña? ¿Qué pasa cuando la cantidad de volados es muy grande?\n",
        "\n",
        "En caso de errores con librerias no encontradas, debes hacer en una celda de código lo siguiente:\n",
        "\n",
        "`!pip install nombre_de_la_libreria`. Por ejemplo para plotly: `!pip install plotly`."
      ]
    },
    {
      "cell_type": "code",
      "execution_count": null,
      "metadata": {
        "id": "H6NVdCzinzFO"
      },
      "outputs": [],
      "source": [
        "import pandas as pd\n",
        "import numpy as np\n",
        "from matplotlib import pyplot as plt\n",
        "import plotly.express as px"
      ]
    },
    {
      "cell_type": "code",
      "execution_count": 94,
      "metadata": {
        "colab": {
          "base_uri": "https://localhost:8080/",
          "height": 542
        },
        "id": "THakz8AbSM74",
        "outputId": "c803a808-5235-4e00-dd0d-7b57dd79d528"
      },
      "outputs": [
        {
          "output_type": "display_data",
          "data": {
            "text/html": [
              "<html>\n",
              "<head><meta charset=\"utf-8\" /></head>\n",
              "<body>\n",
              "    <div>            <script src=\"https://cdnjs.cloudflare.com/ajax/libs/mathjax/2.7.5/MathJax.js?config=TeX-AMS-MML_SVG\"></script><script type=\"text/javascript\">if (window.MathJax) {MathJax.Hub.Config({SVG: {font: \"STIX-Web\"}});}</script>                <script type=\"text/javascript\">window.PlotlyConfig = {MathJaxConfig: 'local'};</script>\n",
              "        <script src=\"https://cdn.plot.ly/plotly-2.8.3.min.js\"></script>                <div id=\"4187483b-a45b-45c7-b3e8-f328bdc2ce2e\" class=\"plotly-graph-div\" style=\"height:525px; width:100%;\"></div>            <script type=\"text/javascript\">                                    window.PLOTLYENV=window.PLOTLYENV || {};                                    if (document.getElementById(\"4187483b-a45b-45c7-b3e8-f328bdc2ce2e\")) {                    Plotly.newPlot(                        \"4187483b-a45b-45c7-b3e8-f328bdc2ce2e\",                        [{\"alignmentgroup\":\"True\",\"bingroup\":\"x\",\"hovertemplate\":\"variable=Resultados<br>Resultado=%{x}<br>count=%{y}<extra></extra>\",\"legendgroup\":\"Resultados\",\"marker\":{\"color\":\"#636efa\",\"pattern\":{\"shape\":\"\"}},\"name\":\"Resultados\",\"offsetgroup\":\"Resultados\",\"orientation\":\"v\",\"showlegend\":true,\"texttemplate\":\"%{value}\",\"x\":[\"\\u00c1guila\",\"\\u00c1guila\"],\"xaxis\":\"x\",\"yaxis\":\"y\",\"type\":\"histogram\"}],                        {\"template\":{\"data\":{\"barpolar\":[{\"marker\":{\"line\":{\"color\":\"white\",\"width\":0.5},\"pattern\":{\"fillmode\":\"overlay\",\"size\":10,\"solidity\":0.2}},\"type\":\"barpolar\"}],\"bar\":[{\"error_x\":{\"color\":\"#2a3f5f\"},\"error_y\":{\"color\":\"#2a3f5f\"},\"marker\":{\"line\":{\"color\":\"white\",\"width\":0.5},\"pattern\":{\"fillmode\":\"overlay\",\"size\":10,\"solidity\":0.2}},\"type\":\"bar\"}],\"carpet\":[{\"aaxis\":{\"endlinecolor\":\"#2a3f5f\",\"gridcolor\":\"#C8D4E3\",\"linecolor\":\"#C8D4E3\",\"minorgridcolor\":\"#C8D4E3\",\"startlinecolor\":\"#2a3f5f\"},\"baxis\":{\"endlinecolor\":\"#2a3f5f\",\"gridcolor\":\"#C8D4E3\",\"linecolor\":\"#C8D4E3\",\"minorgridcolor\":\"#C8D4E3\",\"startlinecolor\":\"#2a3f5f\"},\"type\":\"carpet\"}],\"choropleth\":[{\"colorbar\":{\"outlinewidth\":0,\"ticks\":\"\"},\"type\":\"choropleth\"}],\"contourcarpet\":[{\"colorbar\":{\"outlinewidth\":0,\"ticks\":\"\"},\"type\":\"contourcarpet\"}],\"contour\":[{\"colorbar\":{\"outlinewidth\":0,\"ticks\":\"\"},\"colorscale\":[[0.0,\"#0d0887\"],[0.1111111111111111,\"#46039f\"],[0.2222222222222222,\"#7201a8\"],[0.3333333333333333,\"#9c179e\"],[0.4444444444444444,\"#bd3786\"],[0.5555555555555556,\"#d8576b\"],[0.6666666666666666,\"#ed7953\"],[0.7777777777777778,\"#fb9f3a\"],[0.8888888888888888,\"#fdca26\"],[1.0,\"#f0f921\"]],\"type\":\"contour\"}],\"heatmapgl\":[{\"colorbar\":{\"outlinewidth\":0,\"ticks\":\"\"},\"colorscale\":[[0.0,\"#0d0887\"],[0.1111111111111111,\"#46039f\"],[0.2222222222222222,\"#7201a8\"],[0.3333333333333333,\"#9c179e\"],[0.4444444444444444,\"#bd3786\"],[0.5555555555555556,\"#d8576b\"],[0.6666666666666666,\"#ed7953\"],[0.7777777777777778,\"#fb9f3a\"],[0.8888888888888888,\"#fdca26\"],[1.0,\"#f0f921\"]],\"type\":\"heatmapgl\"}],\"heatmap\":[{\"colorbar\":{\"outlinewidth\":0,\"ticks\":\"\"},\"colorscale\":[[0.0,\"#0d0887\"],[0.1111111111111111,\"#46039f\"],[0.2222222222222222,\"#7201a8\"],[0.3333333333333333,\"#9c179e\"],[0.4444444444444444,\"#bd3786\"],[0.5555555555555556,\"#d8576b\"],[0.6666666666666666,\"#ed7953\"],[0.7777777777777778,\"#fb9f3a\"],[0.8888888888888888,\"#fdca26\"],[1.0,\"#f0f921\"]],\"type\":\"heatmap\"}],\"histogram2dcontour\":[{\"colorbar\":{\"outlinewidth\":0,\"ticks\":\"\"},\"colorscale\":[[0.0,\"#0d0887\"],[0.1111111111111111,\"#46039f\"],[0.2222222222222222,\"#7201a8\"],[0.3333333333333333,\"#9c179e\"],[0.4444444444444444,\"#bd3786\"],[0.5555555555555556,\"#d8576b\"],[0.6666666666666666,\"#ed7953\"],[0.7777777777777778,\"#fb9f3a\"],[0.8888888888888888,\"#fdca26\"],[1.0,\"#f0f921\"]],\"type\":\"histogram2dcontour\"}],\"histogram2d\":[{\"colorbar\":{\"outlinewidth\":0,\"ticks\":\"\"},\"colorscale\":[[0.0,\"#0d0887\"],[0.1111111111111111,\"#46039f\"],[0.2222222222222222,\"#7201a8\"],[0.3333333333333333,\"#9c179e\"],[0.4444444444444444,\"#bd3786\"],[0.5555555555555556,\"#d8576b\"],[0.6666666666666666,\"#ed7953\"],[0.7777777777777778,\"#fb9f3a\"],[0.8888888888888888,\"#fdca26\"],[1.0,\"#f0f921\"]],\"type\":\"histogram2d\"}],\"histogram\":[{\"marker\":{\"pattern\":{\"fillmode\":\"overlay\",\"size\":10,\"solidity\":0.2}},\"type\":\"histogram\"}],\"mesh3d\":[{\"colorbar\":{\"outlinewidth\":0,\"ticks\":\"\"},\"type\":\"mesh3d\"}],\"parcoords\":[{\"line\":{\"colorbar\":{\"outlinewidth\":0,\"ticks\":\"\"}},\"type\":\"parcoords\"}],\"pie\":[{\"automargin\":true,\"type\":\"pie\"}],\"scatter3d\":[{\"line\":{\"colorbar\":{\"outlinewidth\":0,\"ticks\":\"\"}},\"marker\":{\"colorbar\":{\"outlinewidth\":0,\"ticks\":\"\"}},\"type\":\"scatter3d\"}],\"scattercarpet\":[{\"marker\":{\"colorbar\":{\"outlinewidth\":0,\"ticks\":\"\"}},\"type\":\"scattercarpet\"}],\"scattergeo\":[{\"marker\":{\"colorbar\":{\"outlinewidth\":0,\"ticks\":\"\"}},\"type\":\"scattergeo\"}],\"scattergl\":[{\"marker\":{\"colorbar\":{\"outlinewidth\":0,\"ticks\":\"\"}},\"type\":\"scattergl\"}],\"scattermapbox\":[{\"marker\":{\"colorbar\":{\"outlinewidth\":0,\"ticks\":\"\"}},\"type\":\"scattermapbox\"}],\"scatterpolargl\":[{\"marker\":{\"colorbar\":{\"outlinewidth\":0,\"ticks\":\"\"}},\"type\":\"scatterpolargl\"}],\"scatterpolar\":[{\"marker\":{\"colorbar\":{\"outlinewidth\":0,\"ticks\":\"\"}},\"type\":\"scatterpolar\"}],\"scatter\":[{\"marker\":{\"colorbar\":{\"outlinewidth\":0,\"ticks\":\"\"}},\"type\":\"scatter\"}],\"scatterternary\":[{\"marker\":{\"colorbar\":{\"outlinewidth\":0,\"ticks\":\"\"}},\"type\":\"scatterternary\"}],\"surface\":[{\"colorbar\":{\"outlinewidth\":0,\"ticks\":\"\"},\"colorscale\":[[0.0,\"#0d0887\"],[0.1111111111111111,\"#46039f\"],[0.2222222222222222,\"#7201a8\"],[0.3333333333333333,\"#9c179e\"],[0.4444444444444444,\"#bd3786\"],[0.5555555555555556,\"#d8576b\"],[0.6666666666666666,\"#ed7953\"],[0.7777777777777778,\"#fb9f3a\"],[0.8888888888888888,\"#fdca26\"],[1.0,\"#f0f921\"]],\"type\":\"surface\"}],\"table\":[{\"cells\":{\"fill\":{\"color\":\"#EBF0F8\"},\"line\":{\"color\":\"white\"}},\"header\":{\"fill\":{\"color\":\"#C8D4E3\"},\"line\":{\"color\":\"white\"}},\"type\":\"table\"}]},\"layout\":{\"annotationdefaults\":{\"arrowcolor\":\"#2a3f5f\",\"arrowhead\":0,\"arrowwidth\":1},\"autotypenumbers\":\"strict\",\"coloraxis\":{\"colorbar\":{\"outlinewidth\":0,\"ticks\":\"\"}},\"colorscale\":{\"diverging\":[[0,\"#8e0152\"],[0.1,\"#c51b7d\"],[0.2,\"#de77ae\"],[0.3,\"#f1b6da\"],[0.4,\"#fde0ef\"],[0.5,\"#f7f7f7\"],[0.6,\"#e6f5d0\"],[0.7,\"#b8e186\"],[0.8,\"#7fbc41\"],[0.9,\"#4d9221\"],[1,\"#276419\"]],\"sequential\":[[0.0,\"#0d0887\"],[0.1111111111111111,\"#46039f\"],[0.2222222222222222,\"#7201a8\"],[0.3333333333333333,\"#9c179e\"],[0.4444444444444444,\"#bd3786\"],[0.5555555555555556,\"#d8576b\"],[0.6666666666666666,\"#ed7953\"],[0.7777777777777778,\"#fb9f3a\"],[0.8888888888888888,\"#fdca26\"],[1.0,\"#f0f921\"]],\"sequentialminus\":[[0.0,\"#0d0887\"],[0.1111111111111111,\"#46039f\"],[0.2222222222222222,\"#7201a8\"],[0.3333333333333333,\"#9c179e\"],[0.4444444444444444,\"#bd3786\"],[0.5555555555555556,\"#d8576b\"],[0.6666666666666666,\"#ed7953\"],[0.7777777777777778,\"#fb9f3a\"],[0.8888888888888888,\"#fdca26\"],[1.0,\"#f0f921\"]]},\"colorway\":[\"#636efa\",\"#EF553B\",\"#00cc96\",\"#ab63fa\",\"#FFA15A\",\"#19d3f3\",\"#FF6692\",\"#B6E880\",\"#FF97FF\",\"#FECB52\"],\"font\":{\"color\":\"#2a3f5f\"},\"geo\":{\"bgcolor\":\"white\",\"lakecolor\":\"white\",\"landcolor\":\"white\",\"showlakes\":true,\"showland\":true,\"subunitcolor\":\"#C8D4E3\"},\"hoverlabel\":{\"align\":\"left\"},\"hovermode\":\"closest\",\"mapbox\":{\"style\":\"light\"},\"paper_bgcolor\":\"white\",\"plot_bgcolor\":\"white\",\"polar\":{\"angularaxis\":{\"gridcolor\":\"#EBF0F8\",\"linecolor\":\"#EBF0F8\",\"ticks\":\"\"},\"bgcolor\":\"white\",\"radialaxis\":{\"gridcolor\":\"#EBF0F8\",\"linecolor\":\"#EBF0F8\",\"ticks\":\"\"}},\"scene\":{\"xaxis\":{\"backgroundcolor\":\"white\",\"gridcolor\":\"#DFE8F3\",\"gridwidth\":2,\"linecolor\":\"#EBF0F8\",\"showbackground\":true,\"ticks\":\"\",\"zerolinecolor\":\"#EBF0F8\"},\"yaxis\":{\"backgroundcolor\":\"white\",\"gridcolor\":\"#DFE8F3\",\"gridwidth\":2,\"linecolor\":\"#EBF0F8\",\"showbackground\":true,\"ticks\":\"\",\"zerolinecolor\":\"#EBF0F8\"},\"zaxis\":{\"backgroundcolor\":\"white\",\"gridcolor\":\"#DFE8F3\",\"gridwidth\":2,\"linecolor\":\"#EBF0F8\",\"showbackground\":true,\"ticks\":\"\",\"zerolinecolor\":\"#EBF0F8\"}},\"shapedefaults\":{\"line\":{\"color\":\"#2a3f5f\"}},\"ternary\":{\"aaxis\":{\"gridcolor\":\"#DFE8F3\",\"linecolor\":\"#A2B1C6\",\"ticks\":\"\"},\"baxis\":{\"gridcolor\":\"#DFE8F3\",\"linecolor\":\"#A2B1C6\",\"ticks\":\"\"},\"bgcolor\":\"white\",\"caxis\":{\"gridcolor\":\"#DFE8F3\",\"linecolor\":\"#A2B1C6\",\"ticks\":\"\"}},\"title\":{\"x\":0.05},\"xaxis\":{\"automargin\":true,\"gridcolor\":\"#EBF0F8\",\"linecolor\":\"#EBF0F8\",\"ticks\":\"\",\"title\":{\"standoff\":15},\"zerolinecolor\":\"#EBF0F8\",\"zerolinewidth\":2},\"yaxis\":{\"automargin\":true,\"gridcolor\":\"#EBF0F8\",\"linecolor\":\"#EBF0F8\",\"ticks\":\"\",\"title\":{\"standoff\":15},\"zerolinecolor\":\"#EBF0F8\",\"zerolinewidth\":2}}},\"xaxis\":{\"anchor\":\"y\",\"domain\":[0.0,1.0],\"title\":{\"text\":\"Frecuencia\"}},\"yaxis\":{\"anchor\":\"x\",\"domain\":[0.0,1.0],\"title\":{\"text\":\"Resultado\"}},\"legend\":{\"title\":{\"text\":\"variable\"},\"tracegroupgap\":0},\"margin\":{\"t\":60},\"barmode\":\"relative\",\"title\":{\"text\":\"Simulaci\\u00f3n de tirar mil volados\"}},                        {\"responsive\": true}                    ).then(function(){\n",
              "                            \n",
              "var gd = document.getElementById('4187483b-a45b-45c7-b3e8-f328bdc2ce2e');\n",
              "var x = new MutationObserver(function (mutations, observer) {{\n",
              "        var display = window.getComputedStyle(gd).display;\n",
              "        if (!display || display === 'none') {{\n",
              "            console.log([gd, 'removed!']);\n",
              "            Plotly.purge(gd);\n",
              "            observer.disconnect();\n",
              "        }}\n",
              "}});\n",
              "\n",
              "// Listen for the removal of the full notebook cells\n",
              "var notebookContainer = gd.closest('#notebook-container');\n",
              "if (notebookContainer) {{\n",
              "    x.observe(notebookContainer, {childList: true});\n",
              "}}\n",
              "\n",
              "// Listen for the clearing of the current output cell\n",
              "var outputEl = gd.closest('.output');\n",
              "if (outputEl) {{\n",
              "    x.observe(outputEl, {childList: true});\n",
              "}}\n",
              "\n",
              "                        })                };                            </script>        </div>\n",
              "</body>\n",
              "</html>"
            ]
          },
          "metadata": {}
        }
      ],
      "source": [
        "#Paso 1: tira mil veces una moneda (selecciona un valor aleatoriamente de entre dos posibles resultados)\n",
        "resultados_de_volados = np.random.randint(low=0, high=2, size=2)\n",
        "#Pas 2: convierte el resultado a una forma tabular\n",
        "resultados_tabla = pd.DataFrame(resultados_de_volados, columns=['Resultados'])\n",
        "#Paso 3: formatea los resultados a algo más legible\n",
        "resultados_tabla.Resultados.replace({0:'Águila', 1:'Sol'}, inplace=True)\n",
        "\n",
        "#Paso 4: grafica el histograma\n",
        "fig = px.histogram(resultados_tabla, text_auto=True, labels={\n",
        "                     \"value\": \"Resultado\",\n",
        "                     \"count\": \"Frecuencia\"}, template='plotly_white')\n",
        "fig.update_layout(\n",
        "    title=\"Simulación de tirar mil volados\",\n",
        "    xaxis_title=\"Frecuencia\",\n",
        "    yaxis_title=\"Resultado\"\n",
        ")"
      ]
    },
    {
      "cell_type": "markdown",
      "source": [
        "\n",
        "\n",
        "1.   ¿Qué observas?\n",
        "\n",
        "Que al ejecutar el codigo nos da una tabla y que nos muestra los resultados, lo que esperamos es que por nuestra logica el resultado nos de 50 a 50 porciento pero no es asi ahi hay unos cuantos números que no hacen posible esa condicion que nuestra logica \n",
        "2.   ¿Qué puedes concluir?\n",
        "\n",
        "Que entre mayor es el numero de volados mas igualado va estar, pero no siempre se cumple (vamos a cucharear jajaj)\n",
        "\n",
        "3. ¿Qué pasa cuando la cantidad de volados es muy pequeña? \n",
        "\n",
        "Le puse que la tirara dos veces y era muy dividido lo que salia en ocasiones eran 1 y 1 y en ocasiones puros 2 entonces entra la explicacion que nos dio de como funciona una computadora y la probabilidad \n",
        "\n",
        "\n",
        "4.¿Qué pasa cuando la cantidad de volados es muy grande?\n",
        "\n",
        "Se comienza a ser mas uniforme el 50 a 50 pero casi no llega a salir perfecto pero ya es uniforme y no se ve una gran diferecia entre aguila o sol \n",
        "\n",
        "\n"
      ],
      "metadata": {
        "id": "_RdO7lAuysXv"
      }
    }
  ],
  "metadata": {
    "colab": {
      "provenance": []
    },
    "kernelspec": {
      "display_name": "Python 3.9.13 ('base')",
      "language": "python",
      "name": "python3"
    },
    "language_info": {
      "codemirror_mode": {
        "name": "ipython",
        "version": 3
      },
      "file_extension": ".py",
      "mimetype": "text/x-python",
      "name": "python",
      "nbconvert_exporter": "python",
      "pygments_lexer": "ipython3",
      "version": "3.9.13"
    },
    "vscode": {
      "interpreter": {
        "hash": "ad2bdc8ecc057115af97d19610ffacc2b4e99fae6737bb82f5d7fb13d2f2c186"
      }
    }
  },
  "nbformat": 4,
  "nbformat_minor": 0
}